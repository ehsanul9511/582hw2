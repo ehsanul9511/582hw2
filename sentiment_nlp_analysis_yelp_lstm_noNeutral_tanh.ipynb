{
 "cells": [
  {
   "cell_type": "code",
   "execution_count": 1,
   "id": "JKQEl5XRipPg",
   "metadata": {
    "colab": {
     "base_uri": "https://localhost:8080/"
    },
    "id": "JKQEl5XRipPg",
    "outputId": "fe6af76e-2bf0-4a59-cda7-aa3dcdc1e77b"
   },
   "outputs": [
    {
     "name": "stdout",
     "output_type": "stream",
     "text": [
      "Mounted at /content/drive\n"
     ]
    }
   ],
   "source": [
    "from google.colab import drive\n",
    "drive.mount('/content/drive')"
   ]
  },
  {
   "cell_type": "code",
   "execution_count": 2,
   "id": "k0RnOA9Aizox",
   "metadata": {
    "colab": {
     "base_uri": "https://localhost:8080/"
    },
    "id": "k0RnOA9Aizox",
    "outputId": "cd3a5f9a-5cde-4dd9-abed-3718c7386444"
   },
   "outputs": [
    {
     "name": "stdout",
     "output_type": "stream",
     "text": [
      "/content/drive/MyDrive/hw2\n"
     ]
    }
   ],
   "source": [
    "%cd drive/MyDrive/hw2"
   ]
  },
  {
   "cell_type": "code",
   "execution_count": 3,
   "id": "8b288b1e",
   "metadata": {
    "execution": {
     "iopub.execute_input": "2023-03-24T23:55:04.893151Z",
     "iopub.status.busy": "2023-03-24T23:55:04.892295Z",
     "iopub.status.idle": "2023-03-24T23:55:18.282685Z",
     "shell.execute_reply": "2023-03-24T23:55:18.280825Z"
    },
    "id": "8b288b1e",
    "papermill": {
     "duration": 13.407314,
     "end_time": "2023-03-24T23:55:18.286143",
     "exception": false,
     "start_time": "2023-03-24T23:55:04.878829",
     "status": "completed"
    },
    "tags": []
   },
   "outputs": [],
   "source": [
    "import numpy as np\n",
    "import pandas as pd\n",
    "import matplotlib.pyplot as plt\n",
    "import tensorflow as tf\n",
    "from tensorflow.keras.preprocessing.text import Tokenizer\n",
    "from tensorflow.keras.preprocessing.sequence import pad_sequences\n",
    "from tensorflow.keras.models import Sequential\n",
    "from tensorflow.keras.layers import Dense, Embedding, LSTM, Dropout, SpatialDropout1D\n",
    "from tensorflow.keras.callbacks import EarlyStopping\n",
    "from nltk.corpus import stopwords"
   ]
  },
  {
   "cell_type": "code",
   "execution_count": 4,
   "id": "db44dd39",
   "metadata": {
    "execution": {
     "iopub.execute_input": "2023-03-24T23:55:18.355842Z",
     "iopub.status.busy": "2023-03-24T23:55:18.355414Z",
     "iopub.status.idle": "2023-03-24T23:55:18.388921Z",
     "shell.execute_reply": "2023-03-24T23:55:18.387029Z"
    },
    "id": "db44dd39",
    "papermill": {
     "duration": 0.049691,
     "end_time": "2023-03-24T23:55:18.392486",
     "exception": false,
     "start_time": "2023-03-24T23:55:18.342795",
     "status": "completed"
    },
    "tags": []
   },
   "outputs": [],
   "source": [
    "# Read the input text file into a DataFrame\n",
    "df = pd.read_csv('data.txt')\n",
    "df = df.sample(frac=1)"
   ]
  },
  {
   "cell_type": "code",
   "execution_count": 5,
   "id": "czwIUrMsjQVD",
   "metadata": {
    "id": "czwIUrMsjQVD"
   },
   "outputs": [],
   "source": [
    "df = df.drop(columns=['Unnamed: 0'])\n",
    "\n",
    "no_neutral = True\n",
    "\n",
    "df = df.rename(columns={'text':'review', 'stars':'sentiment'})\n",
    "\n",
    "if no_neutral:\n",
    "    df = df[df['sentiment']!=3]\n",
    "    df['sentiment'] = df['sentiment'].apply(lambda x: int(x>3))\n",
    "else:\n",
    "    df['sentiment'] = df['sentiment'].apply(lambda x: np.sign(x-3)+1)"
   ]
  },
  {
   "cell_type": "code",
   "execution_count": 6,
   "id": "612cb376",
   "metadata": {
    "execution": {
     "iopub.execute_input": "2023-03-24T23:55:18.582289Z",
     "iopub.status.busy": "2023-03-24T23:55:18.581755Z",
     "iopub.status.idle": "2023-03-24T23:55:18.595976Z",
     "shell.execute_reply": "2023-03-24T23:55:18.594037Z"
    },
    "id": "612cb376",
    "papermill": {
     "duration": 0.02924,
     "end_time": "2023-03-24T23:55:18.599241",
     "exception": false,
     "start_time": "2023-03-24T23:55:18.570001",
     "status": "completed"
    },
    "tags": []
   },
   "outputs": [],
   "source": [
    "from tensorflow.keras.utils import to_categorical\n",
    "\n",
    "label = df.sentiment\n",
    "label.unique()\n",
    "num_classes = len(set(label))\n",
    "one_hot_labels = to_categorical(label, num_classes=num_classes)"
   ]
  },
  {
   "cell_type": "code",
   "execution_count": 7,
   "id": "33AxVqM5Whbn",
   "metadata": {
    "id": "33AxVqM5Whbn"
   },
   "outputs": [],
   "source": [
    "from gensim.parsing.porter import PorterStemmer\n",
    "from gensim.utils import simple_preprocess\n",
    "# Tokenize the text column to get the new column 'tokenized_text'\n",
    "porter_stemmer = PorterStemmer()\n",
    "review = df.review.values\n",
    "review = [simple_preprocess(line, deacc=True) for line in review] \n",
    "review = [[porter_stemmer.stem(word) for word in tokens] for tokens in review]\n",
    "tokenizer = Tokenizer(num_words=5000, lower=True)\n",
    "tokenizer.fit_on_texts(review)\n",
    "sequences = tokenizer.texts_to_sequences(review)"
   ]
  },
  {
   "cell_type": "code",
   "execution_count": 8,
   "id": "1b8dfe9c",
   "metadata": {
    "colab": {
     "base_uri": "https://localhost:8080/"
    },
    "execution": {
     "iopub.execute_input": "2023-03-24T23:55:18.694104Z",
     "iopub.status.busy": "2023-03-24T23:55:18.693545Z",
     "iopub.status.idle": "2023-03-24T23:55:18.703595Z",
     "shell.execute_reply": "2023-03-24T23:55:18.701925Z"
    },
    "id": "1b8dfe9c",
    "outputId": "7367b3bd-fcca-457a-8093-da443aaefe1f",
    "papermill": {
     "duration": 0.025578,
     "end_time": "2023-03-24T23:55:18.706840",
     "exception": false,
     "start_time": "2023-03-24T23:55:18.681262",
     "status": "completed"
    },
    "tags": []
   },
   "outputs": [
    {
     "data": {
      "text/plain": [
       "22393"
      ]
     },
     "execution_count": 8,
     "metadata": {},
     "output_type": "execute_result"
    }
   ],
   "source": [
    "vocab_size = len(tokenizer.word_index)+1\n",
    "vocab_size"
   ]
  },
  {
   "cell_type": "code",
   "execution_count": 9,
   "id": "93c6c9fe",
   "metadata": {
    "execution": {
     "iopub.execute_input": "2023-03-24T23:55:18.729413Z",
     "iopub.status.busy": "2023-03-24T23:55:18.728972Z",
     "iopub.status.idle": "2023-03-24T23:55:18.739185Z",
     "shell.execute_reply": "2023-03-24T23:55:18.737846Z"
    },
    "id": "93c6c9fe",
    "papermill": {
     "duration": 0.025677,
     "end_time": "2023-03-24T23:55:18.742641",
     "exception": false,
     "start_time": "2023-03-24T23:55:18.716964",
     "status": "completed"
    },
    "tags": []
   },
   "outputs": [],
   "source": [
    "maxlen = 200\n",
    "padded_sequences = pad_sequences(sequences, maxlen=maxlen)"
   ]
  },
  {
   "cell_type": "code",
   "execution_count": 10,
   "id": "MshcwGkIhsZc",
   "metadata": {
    "id": "MshcwGkIhsZc"
   },
   "outputs": [],
   "source": [
    "from sklearn.model_selection import train_test_split\n",
    "#split data into training and testing\n",
    "padded_sequences, test_padded_sequences = train_test_split(padded_sequences, test_size=0.2, shuffle=False)\n",
    "one_hot_labels, test_one_hot_labels = train_test_split(one_hot_labels, test_size=0.2, shuffle=False)"
   ]
  },
  {
   "cell_type": "code",
   "execution_count": 13,
   "id": "63f719b3",
   "metadata": {
    "colab": {
     "base_uri": "https://localhost:8080/"
    },
    "execution": {
     "iopub.execute_input": "2023-03-24T23:55:18.837907Z",
     "iopub.status.busy": "2023-03-24T23:55:18.837434Z",
     "iopub.status.idle": "2023-03-24T23:55:18.847809Z",
     "shell.execute_reply": "2023-03-24T23:55:18.845845Z"
    },
    "id": "63f719b3",
    "outputId": "f8787239-9de0-44e9-812c-73d70f9541b0",
    "papermill": {
     "duration": 0.027109,
     "end_time": "2023-03-24T23:55:18.852691",
     "exception": false,
     "start_time": "2023-03-24T23:55:18.825582",
     "status": "completed"
    },
    "tags": []
   },
   "outputs": [
    {
     "name": "stdout",
     "output_type": "stream",
     "text": [
      "[  55  546  116   14   20    3  109 1165  573   26  371    5  258  174\n",
      "   37   62    1  862 4135   59   72   16   15  573   24 1942 1165    4\n",
      "  568   23  109   18  264 1723    8   12  920    2  454   18   20  519\n",
      "    2  497  680  177    4   67   10   45 1856    2   77 1025   67  129\n",
      "   78 1723  354    4  416   17  463    1  200    4  243 1321   32  101\n",
      "   32   12  480   55 1165  573    9   67   45  259   18  321   18 2112\n",
      " 1894   18    1  109   72  789    1  520   13   14   46 1295  646    2\n",
      "   54 4262 1518 3308    1   46    6  204  322    7  196  210   41   15\n",
      "  303   40   96    3   46  906 1448  322    3   96    3   25 1631    1\n",
      "  204  388    6    1  220  138    5 1632    3  217   12  164   24  643\n",
      " 1079  139    1  214  340  567   12  133  332   95    1  330   21    3\n",
      "   81    7  367  539  148   18   36   16    1  224  489    5   45   18\n",
      "  235    5   19  744   38  152  354    2    1  433    9 1109    5   10\n",
      "  522  235    6 1332 2800   63   67    9   45 1014    6   35  180    4\n",
      "  143    2  381  862]\n"
     ]
    }
   ],
   "source": [
    "print(padded_sequences[0])"
   ]
  },
  {
   "cell_type": "code",
   "execution_count": 14,
   "id": "uObyE-JTeJo9",
   "metadata": {
    "colab": {
     "base_uri": "https://localhost:8080/"
    },
    "id": "uObyE-JTeJo9",
    "outputId": "f1a00e95-23d7-4468-f711-042589e672e4"
   },
   "outputs": [
    {
     "name": "stderr",
     "output_type": "stream",
     "text": [
      "WARNING:tensorflow:Layer lstm will not use cuDNN kernels since it doesn't meet the criteria. It will use a generic GPU kernel as fallback when running on GPU.\n"
     ]
    },
    {
     "name": "stdout",
     "output_type": "stream",
     "text": [
      "Model: \"sequential\"\n",
      "_________________________________________________________________\n",
      " Layer (type)                Output Shape              Param #   \n",
      "=================================================================\n",
      " embedding (Embedding)       (None, 200, 30)           671790    \n",
      "                                                                 \n",
      " spatial_dropout1d (SpatialD  (None, 200, 30)          0         \n",
      " ropout1D)                                                       \n",
      "                                                                 \n",
      " lstm (LSTM)                 (None, 64)                24320     \n",
      "                                                                 \n",
      " dropout (Dropout)           (None, 64)                0         \n",
      "                                                                 \n",
      " dense (Dense)               (None, 2)                 130       \n",
      "                                                                 \n",
      "=================================================================\n",
      "Total params: 696,240\n",
      "Trainable params: 696,240\n",
      "Non-trainable params: 0\n",
      "_________________________________________________________________\n",
      "None\n"
     ]
    }
   ],
   "source": [
    "from tensorflow.keras.layers import Conv1D, MaxPooling1D, Flatten\n",
    "\n",
    "num_classes = len(label.unique())\n",
    "window_sizes = [2, 3, 4, 5]\n",
    "num_filters = 10\n",
    "architecture = \"LSTM\"\n",
    "activation = \"tanh\"\n",
    "\n",
    "if architecture == \"LSTM\":\n",
    "    model = Sequential()\n",
    "    model.add(Embedding(vocab_size, output_dim=30, input_length=maxlen))\n",
    "    model.add(SpatialDropout1D(0.25))\n",
    "    model.add(LSTM(64, activation=activation, dropout=0.5, recurrent_dropout=0.5))\n",
    "    model.add(Dropout(0.2))\n",
    "    model.add(Dense(num_classes, activation='softmax'))\n",
    "    model.compile(loss='categorical_crossentropy', optimizer='adam', metrics=['accuracy'])\n",
    "    print(model.summary())\n",
    "else:\n",
    "    model = Sequential()\n",
    "    model.add(Embedding(vocab_size, output_dim=30, input_length=maxlen))\n",
    "    model.add(SpatialDropout1D(0.25))\n",
    "    model.add(Conv1D(num_filters, kernel_size=window_sizes[0], activation=activation))\n",
    "    model.add(MaxPooling1D())\n",
    "    for window_size in window_sizes[1:]:\n",
    "        model.add(Conv1D(num_filters, kernel_size=window_size, activation=activation))\n",
    "        model.add(MaxPooling1D())\n",
    "    model.add(Flatten())\n",
    "    model.add(Dropout(0.2))\n",
    "    model.add(Dense(num_classes, activation='softmax'))\n",
    "    model.compile(loss='categorical_crossentropy', optimizer='adam', metrics=['accuracy'])\n",
    "    print(model.summary())"
   ]
  },
  {
   "cell_type": "code",
   "execution_count": 15,
   "id": "457029b6",
   "metadata": {
    "colab": {
     "base_uri": "https://localhost:8080/"
    },
    "execution": {
     "iopub.execute_input": "2023-03-24T23:55:19.471001Z",
     "iopub.status.busy": "2023-03-24T23:55:19.470515Z",
     "iopub.status.idle": "2023-03-24T23:55:45.575658Z",
     "shell.execute_reply": "2023-03-24T23:55:45.573793Z"
    },
    "id": "457029b6",
    "outputId": "e8f718df-0c76-4564-e587-cb6493bf0b8c",
    "papermill": {
     "duration": 26.122143,
     "end_time": "2023-03-24T23:55:45.578879",
     "exception": false,
     "start_time": "2023-03-24T23:55:19.456736",
     "status": "completed"
    },
    "tags": []
   },
   "outputs": [
    {
     "name": "stdout",
     "output_type": "stream",
     "text": [
      "Epoch 1/20\n",
      "400/400 [==============================] - 216s 521ms/step - loss: 0.3963 - accuracy: 0.8088 - val_loss: 0.2202 - val_accuracy: 0.9200\n",
      "Epoch 2/20\n",
      "400/400 [==============================] - 183s 458ms/step - loss: 0.2018 - accuracy: 0.9245 - val_loss: 0.2143 - val_accuracy: 0.9234\n",
      "Epoch 3/20\n",
      "400/400 [==============================] - 179s 447ms/step - loss: 0.1640 - accuracy: 0.9412 - val_loss: 0.1967 - val_accuracy: 0.9234\n",
      "Epoch 4/20\n",
      "400/400 [==============================] - 175s 439ms/step - loss: 0.1416 - accuracy: 0.9488 - val_loss: 0.2174 - val_accuracy: 0.9231\n",
      "Epoch 5/20\n",
      "400/400 [==============================] - 169s 422ms/step - loss: 0.1201 - accuracy: 0.9574 - val_loss: 0.1979 - val_accuracy: 0.9303\n",
      "Epoch 6/20\n",
      "400/400 [==============================] - 174s 435ms/step - loss: 0.1103 - accuracy: 0.9625 - val_loss: 0.3145 - val_accuracy: 0.9144\n"
     ]
    }
   ],
   "source": [
    "early_stopping = EarlyStopping(monitor='val_loss', patience=3)\n",
    "history = model.fit(padded_sequences,one_hot_labels,validation_split=0.2, epochs=20, batch_size=32, callbacks=[early_stopping])"
   ]
  },
  {
   "cell_type": "code",
   "execution_count": 16,
   "id": "itvGKdWgxKcJ",
   "metadata": {
    "id": "itvGKdWgxKcJ"
   },
   "outputs": [],
   "source": [
    "model.save('lstm_tanh.h5')"
   ]
  },
  {
   "cell_type": "code",
   "execution_count": 17,
   "id": "87cc6f0c",
   "metadata": {
    "colab": {
     "base_uri": "https://localhost:8080/",
     "height": 472
    },
    "execution": {
     "iopub.execute_input": "2023-03-24T23:55:45.623414Z",
     "iopub.status.busy": "2023-03-24T23:55:45.622519Z",
     "iopub.status.idle": "2023-03-24T23:55:45.931221Z",
     "shell.execute_reply": "2023-03-24T23:55:45.929813Z"
    },
    "id": "87cc6f0c",
    "outputId": "38bf215b-37b2-4e20-cf1d-d38204397352",
    "papermill": {
     "duration": 0.334298,
     "end_time": "2023-03-24T23:55:45.934395",
     "exception": false,
     "start_time": "2023-03-24T23:55:45.600097",
     "status": "completed"
    },
    "tags": []
   },
   "outputs": [
    {
     "data": {
      "image/png": "[encoded data removed]",
      "text/plain": [
       "<Figure size 640x480 with 1 Axes>"
      ]
     },
     "metadata": {},
     "output_type": "display_data"
    }
   ],
   "source": [
    "# Plot training and validation accuracy scores\n",
    "plt.plot(history.history['accuracy'])\n",
    "plt.plot(history.history['val_accuracy'])\n",
    "plt.title('Model Accuracy')\n",
    "plt.xlabel('Epoch')\n",
    "plt.ylabel('Accuracy')\n",
    "plt.legend(['accuracy', 'val_accuracy'], loc='upper left')\n",
    "plt.show()"
   ]
  },
  {
   "cell_type": "code",
   "execution_count": 18,
   "id": "f7929809",
   "metadata": {
    "colab": {
     "base_uri": "https://localhost:8080/",
     "height": 452
    },
    "execution": {
     "iopub.execute_input": "2023-03-24T23:55:45.982784Z",
     "iopub.status.busy": "2023-03-24T23:55:45.981577Z",
     "iopub.status.idle": "2023-03-24T23:55:46.242901Z",
     "shell.execute_reply": "2023-03-24T23:55:46.241742Z"
    },
    "id": "f7929809",
    "outputId": "edd7cae0-6dc8-4379-c286-9c3f1ee66436",
    "papermill": {
     "duration": 0.287999,
     "end_time": "2023-03-24T23:55:46.245599",
     "exception": false,
     "start_time": "2023-03-24T23:55:45.957600",
     "status": "completed"
    },
    "tags": []
   },
   "outputs": [
    {
     "data": {
      "image/png": "[encoded data removed]",
      "text/plain": [
       "<Figure size 640x480 with 1 Axes>"
      ]
     },
     "metadata": {},
     "output_type": "display_data"
    }
   ],
   "source": [
    "# Plot training and validation accuracy scores\n",
    "plt.plot(history.history['loss'], label ='loss')\n",
    "plt.plot(history.history['val_loss'], label = 'val_loss')\n",
    "plt.title('Model Accuracy')\n",
    "plt.legend()\n",
    "plt.show()"
   ]
  },
  {
   "cell_type": "code",
   "execution_count": 19,
   "id": "lV9628bTiRe1",
   "metadata": {
    "colab": {
     "base_uri": "https://localhost:8080/"
    },
    "id": "lV9628bTiRe1",
    "outputId": "3e3cf178-6f3f-47c8-d253-beeae0b1a909"
   },
   "outputs": [
    {
     "name": "stdout",
     "output_type": "stream",
     "text": [
      "125/125 [==============================] - 8s 60ms/step - loss: 0.3369 - accuracy: 0.9055\n",
      "Accuracy: 90.55%\n"
     ]
    }
   ],
   "source": [
    "loss, accuracy = model.evaluate(test_padded_sequences, test_one_hot_labels)\n",
    "print(\"Accuracy: {:.2f}%\".format(accuracy*100))"
   ]
  },
  {
   "cell_type": "code",
   "execution_count": 20,
   "id": "aCwbPaDemNts",
   "metadata": {
    "colab": {
     "base_uri": "https://localhost:8080/"
    },
    "id": "aCwbPaDemNts",
    "outputId": "33592848-47c9-475c-eeb6-e1a5a3b760f6"
   },
   "outputs": [
    {
     "name": "stdout",
     "output_type": "stream",
     "text": [
      "125/125 [==============================] - 8s 60ms/step\n",
      "              precision    recall  f1-score   support\n",
      "\n",
      "           0       0.87      0.95      0.91      2004\n",
      "           1       0.94      0.86      0.90      1996\n",
      "\n",
      "    accuracy                           0.91      4000\n",
      "   macro avg       0.91      0.91      0.91      4000\n",
      "weighted avg       0.91      0.91      0.91      4000\n",
      "\n"
     ]
    }
   ],
   "source": [
    "from sklearn.metrics import classification_report\n",
    "\n",
    "# Make predictions using the trained model\n",
    "y_pred = model.predict(test_padded_sequences)\n",
    "\n",
    "# Convert the predictions from probabilities to class labels\n",
    "y_pred = np.argmax(y_pred, axis=1)\n",
    "\n",
    "# Print the classification report\n",
    "print(classification_report(np.argmax(test_one_hot_labels, axis=1), y_pred))"
   ]
  }
 ],
 "metadata": {
  "accelerator": "GPU",
  "colab": {
   "provenance": []
  },
  "gpuClass": "standard",
  "kernelspec": {
   "display_name": "Python 3 (ipykernel)",
   "language": "python",
   "name": "python3"
  },
  "language_info": {
   "codemirror_mode": {
    "name": "ipython",
    "version": 3
   },
   "file_extension": ".py",
   "mimetype": "text/x-python",
   "name": "python",
   "nbconvert_exporter": "python",
   "pygments_lexer": "ipython3",
   "version": "3.9.16"
  },
  "papermill": {
   "default_parameters": {},
   "duration": 103.063552,
   "end_time": "2023-03-24T23:56:36.054095",
   "environment_variables": {},
   "exception": null,
   "input_path": "__notebook__.ipynb",
   "output_path": "__notebook__.ipynb",
   "parameters": {},
   "start_time": "2023-03-24T23:54:52.990543",
   "version": "2.4.0"
  }
 },
 "nbformat": 4,
 "nbformat_minor": 5
}
