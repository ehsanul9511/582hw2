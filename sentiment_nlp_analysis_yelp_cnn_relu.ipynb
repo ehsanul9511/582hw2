{
 "cells": [
  {
   "cell_type": "code",
   "execution_count": 1,
   "id": "JKQEl5XRipPg",
   "metadata": {
    "colab": {
     "base_uri": "https://localhost:8080/"
    },
    "id": "JKQEl5XRipPg",
    "outputId": "d2495104-95d0-4699-f956-9864701838f1"
   },
   "outputs": [
    {
     "name": "stdout",
     "output_type": "stream",
     "text": [
      "Drive already mounted at /content/drive; to attempt to forcibly remount, call drive.mount(\"/content/drive\", force_remount=True).\n"
     ]
    }
   ],
   "source": [
    "from google.colab import drive\n",
    "drive.mount('/content/drive')"
   ]
  },
  {
   "cell_type": "code",
   "execution_count": 2,
   "id": "k0RnOA9Aizox",
   "metadata": {
    "colab": {
     "base_uri": "https://localhost:8080/"
    },
    "id": "k0RnOA9Aizox",
    "outputId": "88d0f2d0-0dd0-4525-e4a8-579ad379738c"
   },
   "outputs": [
    {
     "name": "stdout",
     "output_type": "stream",
     "text": [
      "/content/drive/MyDrive/hw2\n"
     ]
    }
   ],
   "source": [
    "%cd drive/MyDrive/hw2"
   ]
  },
  {
   "cell_type": "code",
   "execution_count": 3,
   "id": "8b288b1e",
   "metadata": {
    "execution": {
     "iopub.execute_input": "2023-03-24T23:55:04.893151Z",
     "iopub.status.busy": "2023-03-24T23:55:04.892295Z",
     "iopub.status.idle": "2023-03-24T23:55:18.282685Z",
     "shell.execute_reply": "2023-03-24T23:55:18.280825Z"
    },
    "id": "8b288b1e",
    "papermill": {
     "duration": 13.407314,
     "end_time": "2023-03-24T23:55:18.286143",
     "exception": false,
     "start_time": "2023-03-24T23:55:04.878829",
     "status": "completed"
    },
    "tags": []
   },
   "outputs": [],
   "source": [
    "import numpy as np\n",
    "import pandas as pd\n",
    "import matplotlib.pyplot as plt\n",
    "import tensorflow as tf\n",
    "from tensorflow.keras.preprocessing.text import Tokenizer\n",
    "from tensorflow.keras.preprocessing.sequence import pad_sequences\n",
    "from tensorflow.keras.models import Sequential\n",
    "from tensorflow.keras.layers import Dense, Embedding, LSTM, Dropout, SpatialDropout1D\n",
    "from tensorflow.keras.callbacks import EarlyStopping\n",
    "from nltk.corpus import stopwords"
   ]
  },
  {
   "cell_type": "code",
   "execution_count": 4,
   "id": "db44dd39",
   "metadata": {
    "execution": {
     "iopub.execute_input": "2023-03-24T23:55:18.355842Z",
     "iopub.status.busy": "2023-03-24T23:55:18.355414Z",
     "iopub.status.idle": "2023-03-24T23:55:18.388921Z",
     "shell.execute_reply": "2023-03-24T23:55:18.387029Z"
    },
    "id": "db44dd39",
    "papermill": {
     "duration": 0.049691,
     "end_time": "2023-03-24T23:55:18.392486",
     "exception": false,
     "start_time": "2023-03-24T23:55:18.342795",
     "status": "completed"
    },
    "tags": []
   },
   "outputs": [],
   "source": [
    "# Read the input text file into a DataFrame\n",
    "df = pd.read_csv('data.txt')\n",
    "df = df.sample(frac=1)"
   ]
  },
  {
   "cell_type": "code",
   "execution_count": 5,
   "id": "czwIUrMsjQVD",
   "metadata": {
    "id": "czwIUrMsjQVD"
   },
   "outputs": [],
   "source": [
    "df = df.drop(columns=['Unnamed: 0'])\n",
    "\n",
    "no_neutral = False\n",
    "\n",
    "df = df.rename(columns={'text':'review', 'stars':'sentiment'})\n",
    "\n",
    "if no_neutral:\n",
    "    df = df[df['sentiment']!=3]\n",
    "    df['sentiment'] = df['sentiment'].apply(lambda x: int(x>3))\n",
    "else:\n",
    "    df['sentiment'] = df['sentiment'].apply(lambda x: np.sign(x-3)+1)"
   ]
  },
  {
   "cell_type": "code",
   "execution_count": 6,
   "id": "612cb376",
   "metadata": {
    "execution": {
     "iopub.execute_input": "2023-03-24T23:55:18.582289Z",
     "iopub.status.busy": "2023-03-24T23:55:18.581755Z",
     "iopub.status.idle": "2023-03-24T23:55:18.595976Z",
     "shell.execute_reply": "2023-03-24T23:55:18.594037Z"
    },
    "id": "612cb376",
    "papermill": {
     "duration": 0.02924,
     "end_time": "2023-03-24T23:55:18.599241",
     "exception": false,
     "start_time": "2023-03-24T23:55:18.570001",
     "status": "completed"
    },
    "tags": []
   },
   "outputs": [],
   "source": [
    "from tensorflow.keras.utils import to_categorical\n",
    "\n",
    "label = df.sentiment\n",
    "label.unique()\n",
    "num_classes = len(set(label))\n",
    "one_hot_labels = to_categorical(label, num_classes=num_classes)"
   ]
  },
  {
   "cell_type": "code",
   "execution_count": 7,
   "id": "33AxVqM5Whbn",
   "metadata": {
    "id": "33AxVqM5Whbn"
   },
   "outputs": [],
   "source": [
    "from gensim.parsing.porter import PorterStemmer\n",
    "from gensim.utils import simple_preprocess\n",
    "# Tokenize the text column to get the new column 'tokenized_text'\n",
    "porter_stemmer = PorterStemmer()\n",
    "review = df.review.values\n",
    "review = [simple_preprocess(line, deacc=True) for line in review] \n",
    "review = [[porter_stemmer.stem(word) for word in tokens] for tokens in review]\n",
    "tokenizer = Tokenizer(num_words=5000, lower=True)\n",
    "tokenizer.fit_on_texts(review)\n",
    "sequences = tokenizer.texts_to_sequences(review)"
   ]
  },
  {
   "cell_type": "code",
   "execution_count": 8,
   "id": "1b8dfe9c",
   "metadata": {
    "colab": {
     "base_uri": "https://localhost:8080/"
    },
    "execution": {
     "iopub.execute_input": "2023-03-24T23:55:18.694104Z",
     "iopub.status.busy": "2023-03-24T23:55:18.693545Z",
     "iopub.status.idle": "2023-03-24T23:55:18.703595Z",
     "shell.execute_reply": "2023-03-24T23:55:18.701925Z"
    },
    "id": "1b8dfe9c",
    "outputId": "1bb51637-45ca-4c78-e5b1-1839750ff12c",
    "papermill": {
     "duration": 0.025578,
     "end_time": "2023-03-24T23:55:18.706840",
     "exception": false,
     "start_time": "2023-03-24T23:55:18.681262",
     "status": "completed"
    },
    "tags": []
   },
   "outputs": [
    {
     "data": {
      "text/plain": [
       "26781"
      ]
     },
     "execution_count": 8,
     "metadata": {},
     "output_type": "execute_result"
    }
   ],
   "source": [
    "vocab_size = len(tokenizer.word_index)+1\n",
    "vocab_size"
   ]
  },
  {
   "cell_type": "code",
   "execution_count": 9,
   "id": "93c6c9fe",
   "metadata": {
    "execution": {
     "iopub.execute_input": "2023-03-24T23:55:18.729413Z",
     "iopub.status.busy": "2023-03-24T23:55:18.728972Z",
     "iopub.status.idle": "2023-03-24T23:55:18.739185Z",
     "shell.execute_reply": "2023-03-24T23:55:18.737846Z"
    },
    "id": "93c6c9fe",
    "papermill": {
     "duration": 0.025677,
     "end_time": "2023-03-24T23:55:18.742641",
     "exception": false,
     "start_time": "2023-03-24T23:55:18.716964",
     "status": "completed"
    },
    "tags": []
   },
   "outputs": [],
   "source": [
    "maxlen = 200\n",
    "padded_sequences = pad_sequences(sequences, maxlen=maxlen)"
   ]
  },
  {
   "cell_type": "code",
   "execution_count": 10,
   "id": "MshcwGkIhsZc",
   "metadata": {
    "id": "MshcwGkIhsZc"
   },
   "outputs": [],
   "source": [
    "from sklearn.model_selection import train_test_split\n",
    "#split data into training and testing\n",
    "padded_sequences, test_padded_sequences = train_test_split(padded_sequences, test_size=0.2, shuffle=False)\n",
    "one_hot_labels, test_one_hot_labels = train_test_split(one_hot_labels, test_size=0.2, shuffle=False)"
   ]
  },
  {
   "cell_type": "code",
   "execution_count": 12,
   "id": "530affe1",
   "metadata": {
    "colab": {
     "base_uri": "https://localhost:8080/"
    },
    "execution": {
     "iopub.execute_input": "2023-03-24T23:55:18.803347Z",
     "iopub.status.busy": "2023-03-24T23:55:18.802583Z",
     "iopub.status.idle": "2023-03-24T23:55:18.810175Z",
     "shell.execute_reply": "2023-03-24T23:55:18.808602Z"
    },
    "id": "530affe1",
    "outputId": "022f3911-5044-4acc-8059-cc469ffe9231",
    "papermill": {
     "duration": 0.023174,
     "end_time": "2023-03-24T23:55:18.814066",
     "exception": false,
     "start_time": "2023-03-24T23:55:18.790892",
     "status": "completed"
    },
    "tags": []
   },
   "outputs": [
    {
     "name": "stdout",
     "output_type": "stream",
     "text": [
      "['ha', 'to', 'be', 'the', 'best', 'khmer', 'restaur', 'in', 'philadelphia', 'great', 'food', 'great', 'servic', 'and', 'fair', 'price', 'pa', 'hok', 'with', 'veggi', 'is', 'freak', 'awesom', 'fri', 'frog', 'leg', 'my', 'new', 'home', 'awai', 'from', 'home']\n",
      "[100, 3, 25, 1, 120, 75, 9, 1089, 45, 23, 45, 44, 2, 787, 87, 2583, 16, 606, 8, 2159, 296, 112, 4702, 1332, 14, 146, 244, 258, 54, 244]\n"
     ]
    }
   ],
   "source": [
    "print(review[0])\n",
    "print(sequences[0])"
   ]
  },
  {
   "cell_type": "code",
   "execution_count": 13,
   "id": "63f719b3",
   "metadata": {
    "colab": {
     "base_uri": "https://localhost:8080/"
    },
    "execution": {
     "iopub.execute_input": "2023-03-24T23:55:18.837907Z",
     "iopub.status.busy": "2023-03-24T23:55:18.837434Z",
     "iopub.status.idle": "2023-03-24T23:55:18.847809Z",
     "shell.execute_reply": "2023-03-24T23:55:18.845845Z"
    },
    "id": "63f719b3",
    "outputId": "00ca1c52-5004-414b-f69d-a10a702d480f",
    "papermill": {
     "duration": 0.027109,
     "end_time": "2023-03-24T23:55:18.852691",
     "exception": false,
     "start_time": "2023-03-24T23:55:18.825582",
     "status": "completed"
    },
    "tags": []
   },
   "outputs": [
    {
     "name": "stdout",
     "output_type": "stream",
     "text": [
      "[   0    0    0    0    0    0    0    0    0    0    0    0    0    0\n",
      "    0    0    0    0    0    0    0    0    0    0    0    0    0    0\n",
      "    0    0    0    0    0    0    0    0    0    0    0    0    0    0\n",
      "    0    0    0    0    0    0    0    0    0    0    0    0    0    0\n",
      "    0    0    0    0    0    0    0    0    0    0    0    0    0    0\n",
      "    0    0    0    0    0    0    0    0    0    0    0    0    0    0\n",
      "    0    0    0    0    0    0    0    0    0    0    0    0    0    0\n",
      "    0    0    0    0    0    0    0    0    0    0    0    0    0    0\n",
      "    0    0    0    0    0    0    0    0    0    0    0    0    0    0\n",
      "    0    0    0    0    0    0    0    0    0    0    0    0    0    0\n",
      "    0    0    0    0    0    0    0    0    0    0    0    0    0    0\n",
      "    0    0    0    0    0    0    0    0    0    0    0    0    0    0\n",
      "    0    0  100    3   25    1  120   75    9 1089   45   23   45   44\n",
      "    2  787   87 2583   16  606    8 2159  296  112 4702 1332   14  146\n",
      "  244  258   54  244]\n"
     ]
    }
   ],
   "source": [
    "print(padded_sequences[0])"
   ]
  },
  {
   "cell_type": "code",
   "execution_count": 14,
   "id": "uObyE-JTeJo9",
   "metadata": {
    "colab": {
     "base_uri": "https://localhost:8080/"
    },
    "id": "uObyE-JTeJo9",
    "outputId": "0c6c18e1-af51-4a6c-8f34-5339fd57a43b"
   },
   "outputs": [
    {
     "name": "stdout",
     "output_type": "stream",
     "text": [
      "Model: \"sequential\"\n",
      "_________________________________________________________________\n",
      " Layer (type)                Output Shape              Param #   \n",
      "=================================================================\n",
      " embedding (Embedding)       (None, 200, 30)           803430    \n",
      "                                                                 \n",
      " spatial_dropout1d (SpatialD  (None, 200, 30)          0         \n",
      " ropout1D)                                                       \n",
      "                                                                 \n",
      " conv1d (Conv1D)             (None, 199, 10)           610       \n",
      "                                                                 \n",
      " max_pooling1d (MaxPooling1D  (None, 99, 10)           0         \n",
      " )                                                               \n",
      "                                                                 \n",
      " conv1d_1 (Conv1D)           (None, 97, 10)            310       \n",
      "                                                                 \n",
      " max_pooling1d_1 (MaxPooling  (None, 48, 10)           0         \n",
      " 1D)                                                             \n",
      "                                                                 \n",
      " conv1d_2 (Conv1D)           (None, 45, 10)            410       \n",
      "                                                                 \n",
      " max_pooling1d_2 (MaxPooling  (None, 22, 10)           0         \n",
      " 1D)                                                             \n",
      "                                                                 \n",
      " conv1d_3 (Conv1D)           (None, 18, 10)            510       \n",
      "                                                                 \n",
      " max_pooling1d_3 (MaxPooling  (None, 9, 10)            0         \n",
      " 1D)                                                             \n",
      "                                                                 \n",
      " flatten (Flatten)           (None, 90)                0         \n",
      "                                                                 \n",
      " dropout (Dropout)           (None, 90)                0         \n",
      "                                                                 \n",
      " dense (Dense)               (None, 3)                 273       \n",
      "                                                                 \n",
      "=================================================================\n",
      "Total params: 805,543\n",
      "Trainable params: 805,543\n",
      "Non-trainable params: 0\n",
      "_________________________________________________________________\n",
      "None\n"
     ]
    }
   ],
   "source": [
    "from tensorflow.keras.layers import Conv1D, MaxPooling1D, Flatten\n",
    "\n",
    "num_classes = len(label.unique())\n",
    "window_sizes = [2, 3, 4, 5]\n",
    "num_filters = 10\n",
    "architecture = \"CNN\"\n",
    "activation = \"relu\"\n",
    "\n",
    "if architecture == \"LSTM\":\n",
    "    model = Sequential()\n",
    "    model.add(Embedding(vocab_size, output_dim=30, input_length=maxlen))\n",
    "    model.add(SpatialDropout1D(0.25))\n",
    "    model.add(LSTM(64, activation=activation, dropout=0.5, recurrent_dropout=0.5))\n",
    "    model.add(Dropout(0.2))\n",
    "    model.add(Dense(num_classes, activation='softmax'))\n",
    "    model.compile(loss='categorical_crossentropy', optimizer='adam', metrics=['accuracy'])\n",
    "    print(model.summary())\n",
    "else:\n",
    "    model = Sequential()\n",
    "    model.add(Embedding(vocab_size, output_dim=30, input_length=maxlen))\n",
    "    model.add(SpatialDropout1D(0.25))\n",
    "    model.add(Conv1D(num_filters, kernel_size=window_sizes[0], activation=activation))\n",
    "    model.add(MaxPooling1D())\n",
    "    for window_size in window_sizes[1:]:\n",
    "        model.add(Conv1D(num_filters, kernel_size=window_size, activation=activation))\n",
    "        model.add(MaxPooling1D())\n",
    "    model.add(Flatten())\n",
    "    model.add(Dropout(0.2))\n",
    "    model.add(Dense(num_classes, activation='softmax'))\n",
    "    model.compile(loss='categorical_crossentropy', optimizer='adam', metrics=['accuracy'])\n",
    "    print(model.summary())"
   ]
  },
  {
   "cell_type": "code",
   "execution_count": 15,
   "id": "457029b6",
   "metadata": {
    "colab": {
     "base_uri": "https://localhost:8080/"
    },
    "execution": {
     "iopub.execute_input": "2023-03-24T23:55:19.471001Z",
     "iopub.status.busy": "2023-03-24T23:55:19.470515Z",
     "iopub.status.idle": "2023-03-24T23:55:45.575658Z",
     "shell.execute_reply": "2023-03-24T23:55:45.573793Z"
    },
    "id": "457029b6",
    "outputId": "cb7e442a-2829-42eb-9252-d603d9fcc14e",
    "papermill": {
     "duration": 26.122143,
     "end_time": "2023-03-24T23:55:45.578879",
     "exception": false,
     "start_time": "2023-03-24T23:55:19.456736",
     "status": "completed"
    },
    "tags": []
   },
   "outputs": [
    {
     "name": "stdout",
     "output_type": "stream",
     "text": [
      "Epoch 1/20\n",
      "600/600 [==============================] - 57s 87ms/step - loss: 0.9593 - accuracy: 0.4989 - val_loss: 0.7608 - val_accuracy: 0.6442\n",
      "Epoch 2/20\n",
      "600/600 [==============================] - 14s 23ms/step - loss: 0.7101 - accuracy: 0.6763 - val_loss: 0.6935 - val_accuracy: 0.6871\n",
      "Epoch 3/20\n",
      "600/600 [==============================] - 7s 12ms/step - loss: 0.6129 - accuracy: 0.7355 - val_loss: 0.6720 - val_accuracy: 0.7056\n",
      "Epoch 4/20\n",
      "600/600 [==============================] - 6s 10ms/step - loss: 0.5526 - accuracy: 0.7644 - val_loss: 0.6884 - val_accuracy: 0.7035\n",
      "Epoch 5/20\n",
      "600/600 [==============================] - 6s 10ms/step - loss: 0.5011 - accuracy: 0.7922 - val_loss: 0.7151 - val_accuracy: 0.7046\n",
      "Epoch 6/20\n",
      "600/600 [==============================] - 6s 11ms/step - loss: 0.4623 - accuracy: 0.8118 - val_loss: 0.7440 - val_accuracy: 0.6990\n"
     ]
    }
   ],
   "source": [
    "early_stopping = EarlyStopping(monitor='val_loss', patience=3)\n",
    "history = model.fit(padded_sequences,one_hot_labels,validation_split=0.2, epochs=20, batch_size=32, callbacks=[early_stopping])"
   ]
  },
  {
   "cell_type": "code",
   "execution_count": 16,
   "id": "87cc6f0c",
   "metadata": {
    "colab": {
     "base_uri": "https://localhost:8080/",
     "height": 472
    },
    "execution": {
     "iopub.execute_input": "2023-03-24T23:55:45.623414Z",
     "iopub.status.busy": "2023-03-24T23:55:45.622519Z",
     "iopub.status.idle": "2023-03-24T23:55:45.931221Z",
     "shell.execute_reply": "2023-03-24T23:55:45.929813Z"
    },
    "id": "87cc6f0c",
    "outputId": "c8e75e48-26c8-40ea-f39e-90e15ba341d2",
    "papermill": {
     "duration": 0.334298,
     "end_time": "2023-03-24T23:55:45.934395",
     "exception": false,
     "start_time": "2023-03-24T23:55:45.600097",
     "status": "completed"
    },
    "tags": []
   },
   "outputs": [
    {
     "data": {
      "image/png": "[encoded data removed]",
      "text/plain": [
       "<Figure size 640x480 with 1 Axes>"
      ]
     },
     "metadata": {},
     "output_type": "display_data"
    }
   ],
   "source": [
    "# Plot training and validation accuracy scores\n",
    "plt.plot(history.history['accuracy'])\n",
    "plt.plot(history.history['val_accuracy'])\n",
    "plt.title('Model Accuracy')\n",
    "plt.xlabel('Epoch')\n",
    "plt.ylabel('Accuracy')\n",
    "plt.legend(['accuracy', 'val_accuracy'], loc='upper left')\n",
    "plt.show()"
   ]
  },
  {
   "cell_type": "code",
   "execution_count": 17,
   "id": "f7929809",
   "metadata": {
    "colab": {
     "base_uri": "https://localhost:8080/",
     "height": 452
    },
    "execution": {
     "iopub.execute_input": "2023-03-24T23:55:45.982784Z",
     "iopub.status.busy": "2023-03-24T23:55:45.981577Z",
     "iopub.status.idle": "2023-03-24T23:55:46.242901Z",
     "shell.execute_reply": "2023-03-24T23:55:46.241742Z"
    },
    "id": "f7929809",
    "outputId": "0cb0c201-02e2-484a-8c8a-ef6535201841",
    "papermill": {
     "duration": 0.287999,
     "end_time": "2023-03-24T23:55:46.245599",
     "exception": false,
     "start_time": "2023-03-24T23:55:45.957600",
     "status": "completed"
    },
    "tags": []
   },
   "outputs": [
    {
     "data": {
      "image/png": "[encoded data removed]",
      "text/plain": [
       "<Figure size 640x480 with 1 Axes>"
      ]
     },
     "metadata": {},
     "output_type": "display_data"
    }
   ],
   "source": [
    "# Plot training and validation accuracy scores\n",
    "plt.plot(history.history['loss'], label ='loss')\n",
    "plt.plot(history.history['val_loss'], label = 'val_loss')\n",
    "plt.title('Model Accuracy')\n",
    "plt.legend()\n",
    "plt.show()"
   ]
  },
  {
   "cell_type": "code",
   "execution_count": 18,
   "id": "lV9628bTiRe1",
   "metadata": {
    "colab": {
     "base_uri": "https://localhost:8080/"
    },
    "id": "lV9628bTiRe1",
    "outputId": "a7ced046-b959-447e-c65b-2fe01679c13c"
   },
   "outputs": [
    {
     "name": "stdout",
     "output_type": "stream",
     "text": [
      "188/188 [==============================] - 1s 4ms/step - loss: 0.7708 - accuracy: 0.6913\n",
      "Accuracy: 69.13%\n"
     ]
    }
   ],
   "source": [
    "loss, accuracy = model.evaluate(test_padded_sequences, test_one_hot_labels)\n",
    "print(\"Accuracy: {:.2f}%\".format(accuracy*100))"
   ]
  },
  {
   "cell_type": "code",
   "execution_count": 20,
   "id": "aCwbPaDemNts",
   "metadata": {
    "colab": {
     "base_uri": "https://localhost:8080/"
    },
    "id": "aCwbPaDemNts",
    "outputId": "7f047b95-90e0-497f-d226-d2a55007bcfa"
   },
   "outputs": [
    {
     "name": "stdout",
     "output_type": "stream",
     "text": [
      "188/188 [==============================] - 1s 3ms/step\n",
      "              precision    recall  f1-score   support\n",
      "\n",
      "           0       0.75      0.70      0.73      1981\n",
      "           1       0.57      0.64      0.60      2006\n",
      "           2       0.77      0.74      0.75      2013\n",
      "\n",
      "    accuracy                           0.69      6000\n",
      "   macro avg       0.70      0.69      0.69      6000\n",
      "weighted avg       0.70      0.69      0.69      6000\n",
      "\n"
     ]
    }
   ],
   "source": [
    "from sklearn.metrics import classification_report\n",
    "\n",
    "# Make predictions using the trained model\n",
    "y_pred = model.predict(test_padded_sequences)\n",
    "\n",
    "# Convert the predictions from probabilities to class labels\n",
    "y_pred = np.argmax(y_pred, axis=1)\n",
    "\n",
    "# Print the classification report\n",
    "print(classification_report(np.argmax(test_one_hot_labels, axis=1), y_pred))"
   ]
  }
 ],
 "metadata": {
  "accelerator": "GPU",
  "colab": {
   "provenance": []
  },
  "gpuClass": "standard",
  "kernelspec": {
   "display_name": "Python 3 (ipykernel)",
   "language": "python",
   "name": "python3"
  },
  "language_info": {
   "codemirror_mode": {
    "name": "ipython",
    "version": 3
   },
   "file_extension": ".py",
   "mimetype": "text/x-python",
   "name": "python",
   "nbconvert_exporter": "python",
   "pygments_lexer": "ipython3",
   "version": "3.9.16"
  },
  "papermill": {
   "default_parameters": {},
   "duration": 103.063552,
   "end_time": "2023-03-24T23:56:36.054095",
   "environment_variables": {},
   "exception": null,
   "input_path": "__notebook__.ipynb",
   "output_path": "__notebook__.ipynb",
   "parameters": {},
   "start_time": "2023-03-24T23:54:52.990543",
   "version": "2.4.0"
  }
 },
 "nbformat": 4,
 "nbformat_minor": 5
}
