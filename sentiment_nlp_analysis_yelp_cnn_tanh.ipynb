{
 "cells": [
  {
   "cell_type": "code",
   "execution_count": 1,
   "id": "JKQEl5XRipPg",
   "metadata": {
    "colab": {
     "base_uri": "https://localhost:8080/"
    },
    "id": "JKQEl5XRipPg",
    "outputId": "ff62359c-3bf1-4bae-9610-9e51f1e8669e"
   },
   "outputs": [
    {
     "name": "stdout",
     "output_type": "stream",
     "text": [
      "Drive already mounted at /content/drive; to attempt to forcibly remount, call drive.mount(\"/content/drive\", force_remount=True).\n"
     ]
    }
   ],
   "source": [
    "from google.colab import drive\n",
    "drive.mount('/content/drive')"
   ]
  },
  {
   "cell_type": "code",
   "execution_count": 2,
   "id": "k0RnOA9Aizox",
   "metadata": {
    "colab": {
     "base_uri": "https://localhost:8080/"
    },
    "id": "k0RnOA9Aizox",
    "outputId": "e6e65a09-a9a3-47a2-fdbb-f46e50c63393"
   },
   "outputs": [
    {
     "name": "stdout",
     "output_type": "stream",
     "text": [
      "/content/drive/MyDrive/hw2\n"
     ]
    }
   ],
   "source": [
    "%cd drive/MyDrive/hw2"
   ]
  },
  {
   "cell_type": "code",
   "execution_count": 3,
   "id": "8b288b1e",
   "metadata": {
    "execution": {
     "iopub.execute_input": "2023-03-24T23:55:04.893151Z",
     "iopub.status.busy": "2023-03-24T23:55:04.892295Z",
     "iopub.status.idle": "2023-03-24T23:55:18.282685Z",
     "shell.execute_reply": "2023-03-24T23:55:18.280825Z"
    },
    "id": "8b288b1e",
    "papermill": {
     "duration": 13.407314,
     "end_time": "2023-03-24T23:55:18.286143",
     "exception": false,
     "start_time": "2023-03-24T23:55:04.878829",
     "status": "completed"
    },
    "tags": []
   },
   "outputs": [],
   "source": [
    "import numpy as np\n",
    "import pandas as pd\n",
    "import matplotlib.pyplot as plt\n",
    "import tensorflow as tf\n",
    "from tensorflow.keras.preprocessing.text import Tokenizer\n",
    "from tensorflow.keras.preprocessing.sequence import pad_sequences\n",
    "from tensorflow.keras.models import Sequential\n",
    "from tensorflow.keras.layers import Dense, Embedding, LSTM, Dropout, SpatialDropout1D\n",
    "from tensorflow.keras.callbacks import EarlyStopping\n",
    "from nltk.corpus import stopwords"
   ]
  },
  {
   "cell_type": "code",
   "execution_count": 4,
   "id": "db44dd39",
   "metadata": {
    "execution": {
     "iopub.execute_input": "2023-03-24T23:55:18.355842Z",
     "iopub.status.busy": "2023-03-24T23:55:18.355414Z",
     "iopub.status.idle": "2023-03-24T23:55:18.388921Z",
     "shell.execute_reply": "2023-03-24T23:55:18.387029Z"
    },
    "id": "db44dd39",
    "papermill": {
     "duration": 0.049691,
     "end_time": "2023-03-24T23:55:18.392486",
     "exception": false,
     "start_time": "2023-03-24T23:55:18.342795",
     "status": "completed"
    },
    "tags": []
   },
   "outputs": [],
   "source": [
    "# Read the input text file into a DataFrame\n",
    "df = pd.read_csv('data.txt')\n",
    "df = df.sample(frac=1)"
   ]
  },
  {
   "cell_type": "code",
   "execution_count": 5,
   "id": "czwIUrMsjQVD",
   "metadata": {
    "id": "czwIUrMsjQVD"
   },
   "outputs": [],
   "source": [
    "df = df.drop(columns=['Unnamed: 0'])\n",
    "\n",
    "no_neutral = False\n",
    "\n",
    "df = df.rename(columns={'text':'review', 'stars':'sentiment'})\n",
    "\n",
    "if no_neutral:\n",
    "    df = df[df['sentiment']!=3]\n",
    "    df['sentiment'] = df['sentiment'].apply(lambda x: int(x>3))\n",
    "else:\n",
    "    df['sentiment'] = df['sentiment'].apply(lambda x: np.sign(x-3)+1)"
   ]
  },
  {
   "cell_type": "code",
   "execution_count": 6,
   "id": "612cb376",
   "metadata": {
    "execution": {
     "iopub.execute_input": "2023-03-24T23:55:18.582289Z",
     "iopub.status.busy": "2023-03-24T23:55:18.581755Z",
     "iopub.status.idle": "2023-03-24T23:55:18.595976Z",
     "shell.execute_reply": "2023-03-24T23:55:18.594037Z"
    },
    "id": "612cb376",
    "papermill": {
     "duration": 0.02924,
     "end_time": "2023-03-24T23:55:18.599241",
     "exception": false,
     "start_time": "2023-03-24T23:55:18.570001",
     "status": "completed"
    },
    "tags": []
   },
   "outputs": [],
   "source": [
    "from tensorflow.keras.utils import to_categorical\n",
    "\n",
    "label = df.sentiment\n",
    "label.unique()\n",
    "num_classes = len(set(label))\n",
    "one_hot_labels = to_categorical(label, num_classes=num_classes)"
   ]
  },
  {
   "cell_type": "code",
   "execution_count": 7,
   "id": "33AxVqM5Whbn",
   "metadata": {
    "id": "33AxVqM5Whbn"
   },
   "outputs": [],
   "source": [
    "from gensim.parsing.porter import PorterStemmer\n",
    "from gensim.utils import simple_preprocess\n",
    "# Tokenize the text column to get the new column 'tokenized_text'\n",
    "porter_stemmer = PorterStemmer()\n",
    "review = df.review.values\n",
    "review = [simple_preprocess(line, deacc=True) for line in review] \n",
    "review = [[porter_stemmer.stem(word) for word in tokens] for tokens in review]\n",
    "tokenizer = Tokenizer(num_words=5000, lower=True)\n",
    "tokenizer.fit_on_texts(review)\n",
    "sequences = tokenizer.texts_to_sequences(review)"
   ]
  },
  {
   "cell_type": "code",
   "execution_count": 8,
   "id": "1b8dfe9c",
   "metadata": {
    "colab": {
     "base_uri": "https://localhost:8080/"
    },
    "execution": {
     "iopub.execute_input": "2023-03-24T23:55:18.694104Z",
     "iopub.status.busy": "2023-03-24T23:55:18.693545Z",
     "iopub.status.idle": "2023-03-24T23:55:18.703595Z",
     "shell.execute_reply": "2023-03-24T23:55:18.701925Z"
    },
    "id": "1b8dfe9c",
    "outputId": "90e0703e-e7f6-4146-a591-d8737e7faf59",
    "papermill": {
     "duration": 0.025578,
     "end_time": "2023-03-24T23:55:18.706840",
     "exception": false,
     "start_time": "2023-03-24T23:55:18.681262",
     "status": "completed"
    },
    "tags": []
   },
   "outputs": [
    {
     "data": {
      "text/plain": [
       "26781"
      ]
     },
     "execution_count": 8,
     "metadata": {},
     "output_type": "execute_result"
    }
   ],
   "source": [
    "vocab_size = len(tokenizer.word_index)+1\n",
    "vocab_size"
   ]
  },
  {
   "cell_type": "code",
   "execution_count": 9,
   "id": "93c6c9fe",
   "metadata": {
    "execution": {
     "iopub.execute_input": "2023-03-24T23:55:18.729413Z",
     "iopub.status.busy": "2023-03-24T23:55:18.728972Z",
     "iopub.status.idle": "2023-03-24T23:55:18.739185Z",
     "shell.execute_reply": "2023-03-24T23:55:18.737846Z"
    },
    "id": "93c6c9fe",
    "papermill": {
     "duration": 0.025677,
     "end_time": "2023-03-24T23:55:18.742641",
     "exception": false,
     "start_time": "2023-03-24T23:55:18.716964",
     "status": "completed"
    },
    "tags": []
   },
   "outputs": [],
   "source": [
    "maxlen = 200\n",
    "padded_sequences = pad_sequences(sequences, maxlen=maxlen)"
   ]
  },
  {
   "cell_type": "code",
   "execution_count": 10,
   "id": "MshcwGkIhsZc",
   "metadata": {
    "id": "MshcwGkIhsZc"
   },
   "outputs": [],
   "source": [
    "from sklearn.model_selection import train_test_split\n",
    "#split data into training and testing\n",
    "padded_sequences, test_padded_sequences = train_test_split(padded_sequences, test_size=0.2, shuffle=False)\n",
    "one_hot_labels, test_one_hot_labels = train_test_split(one_hot_labels, test_size=0.2, shuffle=False)"
   ]
  },
  {
   "cell_type": "code",
   "execution_count": 12,
   "id": "530affe1",
   "metadata": {
    "execution": {
     "iopub.execute_input": "2023-03-24T23:55:18.803347Z",
     "iopub.status.busy": "2023-03-24T23:55:18.802583Z",
     "iopub.status.idle": "2023-03-24T23:55:18.810175Z",
     "shell.execute_reply": "2023-03-24T23:55:18.808602Z"
    },
    "id": "530affe1",
    "papermill": {
     "duration": 0.023174,
     "end_time": "2023-03-24T23:55:18.814066",
     "exception": false,
     "start_time": "2023-03-24T23:55:18.790892",
     "status": "completed"
    },
    "tags": []
   },
   "outputs": [],
   "source": [
    "print(review[0])\n",
    "print(sequences[0])"
   ]
  },
  {
   "cell_type": "code",
   "execution_count": 14,
   "id": "uObyE-JTeJo9",
   "metadata": {
    "colab": {
     "base_uri": "https://localhost:8080/"
    },
    "id": "uObyE-JTeJo9",
    "outputId": "4c296b67-c996-41a4-cdba-b51ff6b177b6"
   },
   "outputs": [
    {
     "name": "stdout",
     "output_type": "stream",
     "text": [
      "Model: \"sequential\"\n",
      "_________________________________________________________________\n",
      " Layer (type)                Output Shape              Param #   \n",
      "=================================================================\n",
      " embedding (Embedding)       (None, 200, 30)           803430    \n",
      "                                                                 \n",
      " spatial_dropout1d (SpatialD  (None, 200, 30)          0         \n",
      " ropout1D)                                                       \n",
      "                                                                 \n",
      " conv1d (Conv1D)             (None, 199, 10)           610       \n",
      "                                                                 \n",
      " max_pooling1d (MaxPooling1D  (None, 99, 10)           0         \n",
      " )                                                               \n",
      "                                                                 \n",
      " conv1d_1 (Conv1D)           (None, 97, 10)            310       \n",
      "                                                                 \n",
      " max_pooling1d_1 (MaxPooling  (None, 48, 10)           0         \n",
      " 1D)                                                             \n",
      "                                                                 \n",
      " conv1d_2 (Conv1D)           (None, 45, 10)            410       \n",
      "                                                                 \n",
      " max_pooling1d_2 (MaxPooling  (None, 22, 10)           0         \n",
      " 1D)                                                             \n",
      "                                                                 \n",
      " conv1d_3 (Conv1D)           (None, 18, 10)            510       \n",
      "                                                                 \n",
      " max_pooling1d_3 (MaxPooling  (None, 9, 10)            0         \n",
      " 1D)                                                             \n",
      "                                                                 \n",
      " flatten (Flatten)           (None, 90)                0         \n",
      "                                                                 \n",
      " dropout (Dropout)           (None, 90)                0         \n",
      "                                                                 \n",
      " dense (Dense)               (None, 3)                 273       \n",
      "                                                                 \n",
      "=================================================================\n",
      "Total params: 805,543\n",
      "Trainable params: 805,543\n",
      "Non-trainable params: 0\n",
      "_________________________________________________________________\n",
      "None\n"
     ]
    }
   ],
   "source": [
    "from tensorflow.keras.layers import Conv1D, MaxPooling1D, Flatten\n",
    "\n",
    "num_classes = len(label.unique())\n",
    "window_sizes = [2, 3, 4, 5]\n",
    "num_filters = 10\n",
    "architecture = \"CNN\"\n",
    "activation = \"tanh\"\n",
    "\n",
    "if architecture == \"LSTM\":\n",
    "    model = Sequential()\n",
    "    model.add(Embedding(vocab_size, output_dim=30, input_length=maxlen))\n",
    "    model.add(SpatialDropout1D(0.25))\n",
    "    model.add(LSTM(64, activation=activation, dropout=0.5, recurrent_dropout=0.5))\n",
    "    model.add(Dropout(0.2))\n",
    "    model.add(Dense(num_classes, activation='softmax'))\n",
    "    model.compile(loss='categorical_crossentropy', optimizer='adam', metrics=['accuracy'])\n",
    "    print(model.summary())\n",
    "else:\n",
    "    model = Sequential()\n",
    "    model.add(Embedding(vocab_size, output_dim=30, input_length=maxlen))\n",
    "    model.add(SpatialDropout1D(0.25))\n",
    "    model.add(Conv1D(num_filters, kernel_size=window_sizes[0], activation=activation))\n",
    "    model.add(MaxPooling1D())\n",
    "    for window_size in window_sizes[1:]:\n",
    "        model.add(Conv1D(num_filters, kernel_size=window_size, activation=activation))\n",
    "        model.add(MaxPooling1D())\n",
    "    model.add(Flatten())\n",
    "    model.add(Dropout(0.2))\n",
    "    model.add(Dense(num_classes, activation='softmax'))\n",
    "    model.compile(loss='categorical_crossentropy', optimizer='adam', metrics=['accuracy'])\n",
    "    print(model.summary())"
   ]
  },
  {
   "cell_type": "code",
   "execution_count": 15,
   "id": "457029b6",
   "metadata": {
    "colab": {
     "base_uri": "https://localhost:8080/"
    },
    "execution": {
     "iopub.execute_input": "2023-03-24T23:55:19.471001Z",
     "iopub.status.busy": "2023-03-24T23:55:19.470515Z",
     "iopub.status.idle": "2023-03-24T23:55:45.575658Z",
     "shell.execute_reply": "2023-03-24T23:55:45.573793Z"
    },
    "id": "457029b6",
    "outputId": "e5e4cc7c-b74c-4380-f383-2051e78fbe11",
    "papermill": {
     "duration": 26.122143,
     "end_time": "2023-03-24T23:55:45.578879",
     "exception": false,
     "start_time": "2023-03-24T23:55:19.456736",
     "status": "completed"
    },
    "tags": []
   },
   "outputs": [
    {
     "name": "stdout",
     "output_type": "stream",
     "text": [
      "Epoch 1/20\n",
      "600/600 [==============================] - 61s 95ms/step - loss: 0.9619 - accuracy: 0.4981 - val_loss: 0.7789 - val_accuracy: 0.6217\n",
      "Epoch 2/20\n",
      "600/600 [==============================] - 14s 23ms/step - loss: 0.7108 - accuracy: 0.6756 - val_loss: 0.7035 - val_accuracy: 0.6825\n",
      "Epoch 3/20\n",
      "600/600 [==============================] - 9s 15ms/step - loss: 0.6117 - accuracy: 0.7344 - val_loss: 0.6834 - val_accuracy: 0.6977\n",
      "Epoch 4/20\n",
      "600/600 [==============================] - 7s 11ms/step - loss: 0.5437 - accuracy: 0.7711 - val_loss: 0.6813 - val_accuracy: 0.7108\n",
      "Epoch 5/20\n",
      "600/600 [==============================] - 5s 8ms/step - loss: 0.4878 - accuracy: 0.7978 - val_loss: 0.7043 - val_accuracy: 0.7058\n",
      "Epoch 6/20\n",
      "600/600 [==============================] - 7s 12ms/step - loss: 0.4445 - accuracy: 0.8213 - val_loss: 0.7570 - val_accuracy: 0.6981\n",
      "Epoch 7/20\n",
      "600/600 [==============================] - 4s 7ms/step - loss: 0.4067 - accuracy: 0.8386 - val_loss: 0.7819 - val_accuracy: 0.6977\n"
     ]
    }
   ],
   "source": [
    "early_stopping = EarlyStopping(monitor='val_loss', patience=3)\n",
    "history = model.fit(padded_sequences,one_hot_labels,validation_split=0.2, epochs=20, batch_size=32, callbacks=[early_stopping])"
   ]
  },
  {
   "cell_type": "code",
   "execution_count": 16,
   "id": "87cc6f0c",
   "metadata": {
    "colab": {
     "base_uri": "https://localhost:8080/",
     "height": 472
    },
    "execution": {
     "iopub.execute_input": "2023-03-24T23:55:45.623414Z",
     "iopub.status.busy": "2023-03-24T23:55:45.622519Z",
     "iopub.status.idle": "2023-03-24T23:55:45.931221Z",
     "shell.execute_reply": "2023-03-24T23:55:45.929813Z"
    },
    "id": "87cc6f0c",
    "outputId": "56a4c772-debb-42d1-d2ee-ea2101f55ad3",
    "papermill": {
     "duration": 0.334298,
     "end_time": "2023-03-24T23:55:45.934395",
     "exception": false,
     "start_time": "2023-03-24T23:55:45.600097",
     "status": "completed"
    },
    "tags": []
   },
   "outputs": [
    {
     "data": {
      "image/png": "[encoded data removed]",
      "text/plain": [
       "<Figure size 640x480 with 1 Axes>"
      ]
     },
     "metadata": {},
     "output_type": "display_data"
    }
   ],
   "source": [
    "# Plot training and validation accuracy scores\n",
    "plt.plot(history.history['accuracy'])\n",
    "plt.plot(history.history['val_accuracy'])\n",
    "plt.title('Model Accuracy')\n",
    "plt.xlabel('Epoch')\n",
    "plt.ylabel('Accuracy')\n",
    "plt.legend(['accuracy', 'val_accuracy'], loc='upper left')\n",
    "plt.show()"
   ]
  },
  {
   "cell_type": "code",
   "execution_count": 17,
   "id": "f7929809",
   "metadata": {
    "colab": {
     "base_uri": "https://localhost:8080/",
     "height": 452
    },
    "execution": {
     "iopub.execute_input": "2023-03-24T23:55:45.982784Z",
     "iopub.status.busy": "2023-03-24T23:55:45.981577Z",
     "iopub.status.idle": "2023-03-24T23:55:46.242901Z",
     "shell.execute_reply": "2023-03-24T23:55:46.241742Z"
    },
    "id": "f7929809",
    "outputId": "56fc6671-002f-45b5-c93c-39a949bc3865",
    "papermill": {
     "duration": 0.287999,
     "end_time": "2023-03-24T23:55:46.245599",
     "exception": false,
     "start_time": "2023-03-24T23:55:45.957600",
     "status": "completed"
    },
    "tags": []
   },
   "outputs": [
    {
     "data": {
      "image/png": "[encoded data removed]",
      "text/plain": [
       "<Figure size 640x480 with 1 Axes>"
      ]
     },
     "metadata": {},
     "output_type": "display_data"
    }
   ],
   "source": [
    "# Plot training and validation accuracy scores\n",
    "plt.plot(history.history['loss'], label ='loss')\n",
    "plt.plot(history.history['val_loss'], label = 'val_loss')\n",
    "plt.title('Model Accuracy')\n",
    "plt.legend()\n",
    "plt.show()"
   ]
  },
  {
   "cell_type": "code",
   "execution_count": 18,
   "id": "lV9628bTiRe1",
   "metadata": {
    "colab": {
     "base_uri": "https://localhost:8080/"
    },
    "id": "lV9628bTiRe1",
    "outputId": "5c089951-eb0b-416f-c5ae-dee2d9046902"
   },
   "outputs": [
    {
     "name": "stdout",
     "output_type": "stream",
     "text": [
      "188/188 [==============================] - 1s 3ms/step - loss: 0.8209 - accuracy: 0.6848\n",
      "Accuracy: 68.48%\n"
     ]
    }
   ],
   "source": [
    "loss, accuracy = model.evaluate(test_padded_sequences, test_one_hot_labels)\n",
    "print(\"Accuracy: {:.2f}%\".format(accuracy*100))"
   ]
  },
  {
   "cell_type": "code",
   "execution_count": 19,
   "id": "aCwbPaDemNts",
   "metadata": {
    "colab": {
     "base_uri": "https://localhost:8080/"
    },
    "id": "aCwbPaDemNts",
    "outputId": "ffb79485-2206-4532-cc5a-9e5c68e6b332"
   },
   "outputs": [
    {
     "name": "stdout",
     "output_type": "stream",
     "text": [
      "188/188 [==============================] - 1s 2ms/step\n",
      "              precision    recall  f1-score   support\n",
      "\n",
      "           0       0.66      0.81      0.73      1964\n",
      "           1       0.62      0.51      0.56      2056\n",
      "           2       0.77      0.74      0.76      1980\n",
      "\n",
      "    accuracy                           0.68      6000\n",
      "   macro avg       0.68      0.69      0.68      6000\n",
      "weighted avg       0.68      0.68      0.68      6000\n",
      "\n"
     ]
    }
   ],
   "source": [
    "from sklearn.metrics import classification_report\n",
    "\n",
    "# Make predictions using the trained model\n",
    "y_pred = model.predict(test_padded_sequences)\n",
    "\n",
    "# Convert the predictions from probabilities to class labels\n",
    "y_pred = np.argmax(y_pred, axis=1)\n",
    "\n",
    "# Print the classification report\n",
    "print(classification_report(np.argmax(test_one_hot_labels, axis=1), y_pred))"
   ]
  }
 ],
 "metadata": {
  "accelerator": "GPU",
  "colab": {
   "provenance": []
  },
  "gpuClass": "standard",
  "kernelspec": {
   "display_name": "Python 3 (ipykernel)",
   "language": "python",
   "name": "python3"
  },
  "language_info": {
   "codemirror_mode": {
    "name": "ipython",
    "version": 3
   },
   "file_extension": ".py",
   "mimetype": "text/x-python",
   "name": "python",
   "nbconvert_exporter": "python",
   "pygments_lexer": "ipython3",
   "version": "3.9.16"
  },
  "papermill": {
   "default_parameters": {},
   "duration": 103.063552,
   "end_time": "2023-03-24T23:56:36.054095",
   "environment_variables": {},
   "exception": null,
   "input_path": "__notebook__.ipynb",
   "output_path": "__notebook__.ipynb",
   "parameters": {},
   "start_time": "2023-03-24T23:54:52.990543",
   "version": "2.4.0"
  }
 },
 "nbformat": 4,
 "nbformat_minor": 5
}
